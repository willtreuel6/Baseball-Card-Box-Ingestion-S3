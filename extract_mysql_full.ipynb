{
 "cells": [
  {
   "cell_type": "code",
   "execution_count": 1,
   "id": "876120af-6f9a-4039-8673-7d8fa2f0fff3",
   "metadata": {},
   "outputs": [],
   "source": [
    "import pymysql\n",
    "import csv\n",
    "import boto3\n",
    "import configparser"
   ]
  },
  {
   "cell_type": "code",
   "execution_count": 5,
   "id": "9efd205a-9e44-48b4-9b41-b275013119fa",
   "metadata": {},
   "outputs": [],
   "source": [
    "parser = configparser.ConfigParser()\n",
    "parser.read(\"pipeline.conf.txt\")\n",
    "hostname = parser.get(\"mysql_config\", \"hostname\")\n",
    "port = parser.get(\"mysql_config\",\"port\")\n",
    "username = parser.get(\"mysql_config\", \"username\")\n",
    "password = parser.get(\"mysql_config\",\"password\")\n",
    "dbname = parser.get(\"mysql_config\",\"database\")"
   ]
  },
  {
   "cell_type": "code",
   "execution_count": 6,
   "id": "0253812c-01ab-4e8c-a8d4-1d08251afb87",
   "metadata": {},
   "outputs": [
    {
     "name": "stdout",
     "output_type": "stream",
     "text": [
      "Connection Established\n"
     ]
    }
   ],
   "source": [
    "conn = pymysql.connect(host = hostname,\n",
    "                      port = int(port),\n",
    "                      user = username,\n",
    "                      password = password,\n",
    "                      db=dbname)\n",
    "\n",
    "if conn is None:\n",
    "    print(\"Error connecting to SQL db\")\n",
    "else:\n",
    "    print(\"Connection Established\")"
   ]
  },
  {
   "cell_type": "markdown",
   "id": "e5036b41-a66d-4b32-8612-12b1a23c49b5",
   "metadata": {},
   "source": [
    "## Full Table Load"
   ]
  },
  {
   "cell_type": "code",
   "execution_count": 7,
   "id": "6d1f4e19-5b7b-49da-bf8b-bed1b55de3c5",
   "metadata": {},
   "outputs": [],
   "source": [
    "m_query = \"select * from box;\"\n",
    "local_filename = \"box_extract.csv\"\n",
    "\n",
    "m_cursor = conn.cursor()\n",
    "m_cursor.execute(m_query)\n",
    "results = m_cursor.fetchall()\n",
    "\n",
    "with open(local_filename, \"w\") as fp:\n",
    "    csv_w = csv.writer(fp, delimiter='|')\n",
    "    csv_w.writerows(results)\n",
    "\n",
    "fp.close()\n",
    "m_cursor.close()\n",
    "conn.close()"
   ]
  },
  {
   "cell_type": "markdown",
   "id": "84fd5d7e-883e-4a0a-ab46-714b9f00c290",
   "metadata": {},
   "source": [
    "## Write to S3"
   ]
  },
  {
   "cell_type": "code",
   "execution_count": 11,
   "id": "bd4abcd0-b16f-4b00-9c19-f42e7f36fd41",
   "metadata": {},
   "outputs": [],
   "source": [
    "parser = configparser.ConfigParser()\n",
    "parser.read(\"pipeline.conf.txt\")\n",
    "access_key = parser.get(\"aws_boto_credentials\",\"access_key\")\n",
    "secret_key = parser.get(\"aws_boto_credentials\", \"secret_key\")\n",
    "bucket_name = parser.get(\"aws_boto_credentials\", \"bucket\")\n",
    "\n",
    "s3 = boto3.client('s3', aws_access_key_id = access_key, aws_secret_access_key = secret_key)\n",
    "\n",
    "s3_file = local_filename\n",
    "\n",
    "s3.upload_file(local_filename, bucket_name, s3_file)"
   ]
  },
  {
   "cell_type": "code",
   "execution_count": null,
   "id": "015e1835-b2ef-4839-8d89-580ec456e018",
   "metadata": {},
   "outputs": [],
   "source": []
  }
 ],
 "metadata": {
  "kernelspec": {
   "display_name": "Python 3 (ipykernel)",
   "language": "python",
   "name": "python3"
  },
  "language_info": {
   "codemirror_mode": {
    "name": "ipython",
    "version": 3
   },
   "file_extension": ".py",
   "mimetype": "text/x-python",
   "name": "python",
   "nbconvert_exporter": "python",
   "pygments_lexer": "ipython3",
   "version": "3.10.4"
  }
 },
 "nbformat": 4,
 "nbformat_minor": 5
}
