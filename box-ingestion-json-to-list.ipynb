{
 "cells": [
  {
   "cell_type": "code",
   "execution_count": 37,
   "id": "fee6df31-1c43-437d-b697-a517faccb4c2",
   "metadata": {},
   "outputs": [],
   "source": [
    "import requests\n",
    "import json\n",
    "import configparser\n",
    "import csv\n",
    "import boto3"
   ]
  },
  {
   "cell_type": "code",
   "execution_count": 38,
   "id": "2f70b659-34f4-4799-86e6-f1d41aa17c41",
   "metadata": {},
   "outputs": [
    {
     "name": "stdout",
     "output_type": "stream",
     "text": [
      "b'[{\"boxId\":1,\"boxName\":\"2022 Topps Chrome Baseball\",\"boxBrand\":\"Topps\",\"boxYear\":2022,\"boxImage\":\"../../../assets/images/2022toppschrome.png\",\"boxEbay\":\"https://google.com\",\"boxSport\":\"baseball\",\"boxInStock\":1,\"boxDescription\":\"\",\"boxPrice\":199.99},{\"boxId\":2,\"boxName\":\"2022 Topps Update\",\"boxBrand\":\"Topps\",\"boxYear\":2022,\"boxImage\":\"../../../assets/images/2022toppsupdate.jpg\",\"boxEbay\":null,\"boxSport\":\"baseball\",\"boxInStock\":1,\"boxDescription\":\"\",\"boxPrice\":99.99},{\"boxId\":3,\"boxName\":\"2022 Bowman Blaster\",\"boxBrand\":\"Topps\",\"boxYear\":2022,\"boxImage\":\"../../../assets/images/2020bowmanblaster.jpg\",\"boxEbay\":null,\"boxSport\":\"baseball\",\"boxInStock\":8,\"boxDescription\":\"\",\"boxPrice\":24.99},{\"boxId\":4,\"boxName\":\"2021 Panini Prizm Football\",\"boxBrand\":\"Panini\",\"boxYear\":2021,\"boxImage\":\"../../../assets/images/2021paniniprizmfootball.jpg\",\"boxEbay\":null,\"boxSport\":\"football\",\"boxInStock\":8,\"boxDescription\":\"\",\"boxPrice\":249.99},{\"boxId\":5,\"boxName\":\"2020 Panini Select Football\",\"boxBrand\":\"Panini\",\"boxYear\":2020,\"boxImage\":\"../../../assets/images/2020paniniselectfootball.jpg\",\"boxEbay\":null,\"boxSport\":\"football\",\"boxInStock\":8,\"boxDescription\":\"\",\"boxPrice\":1499.99},{\"boxId\":6,\"boxName\":\"2022 Panini Select UFC\",\"boxBrand\":\"Panini\",\"boxYear\":2022,\"boxImage\":\"../../../assets/images/2022paniniselectufc.jpg\",\"boxEbay\":null,\"boxSport\":\"mma\",\"boxInStock\":3,\"boxDescription\":\"\",\"boxPrice\":299.99},{\"boxId\":7,\"boxName\":\"2022 Fleer\",\"boxBrand\":\"Fleer\",\"boxYear\":2022,\"boxImage\":null,\"boxEbay\":null,\"boxSport\":\"Baseball\",\"boxInStock\":null,\"boxDescription\":\"\",\"boxPrice\":209.99},{\"boxId\":8,\"boxName\":\"2022 Fleer\",\"boxBrand\":\"Fleer\",\"boxYear\":2022,\"boxImage\":null,\"boxEbay\":null,\"boxSport\":\"Baseball\",\"boxInStock\":null,\"boxDescription\":\"\",\"boxPrice\":209.99},{\"boxId\":9,\"boxName\":\"2022 Fleer\",\"boxBrand\":\"Fleer\",\"boxYear\":2022,\"boxImage\":null,\"boxEbay\":null,\"boxSport\":\"Baseball\",\"boxInStock\":null,\"boxDescription\":\"\",\"boxPrice\":209.99}]'\n"
     ]
    }
   ],
   "source": [
    "boxParams = {\"boxBrand\" : \"Topps\"}\n",
    "api_response = requests.get(\n",
    "    \"http://localhost:8081/api/box\"\n",
    ")\n",
    "print(api_response.content)"
   ]
  },
  {
   "cell_type": "code",
   "execution_count": 39,
   "id": "b5e914cb-7fc5-4b93-be72-919193b753dc",
   "metadata": {},
   "outputs": [],
   "source": [
    "response_json = json.loads(api_response.content)"
   ]
  },
  {
   "cell_type": "code",
   "execution_count": 40,
   "id": "f9da7cde-7035-44e0-8f1e-a6e87150c132",
   "metadata": {},
   "outputs": [
    {
     "data": {
      "text/plain": [
       "[{'boxId': 1,\n",
       "  'boxName': '2022 Topps Chrome Baseball',\n",
       "  'boxBrand': 'Topps',\n",
       "  'boxYear': 2022,\n",
       "  'boxImage': '../../../assets/images/2022toppschrome.png',\n",
       "  'boxEbay': 'https://google.com',\n",
       "  'boxSport': 'baseball',\n",
       "  'boxInStock': 1,\n",
       "  'boxDescription': '',\n",
       "  'boxPrice': 199.99},\n",
       " {'boxId': 2,\n",
       "  'boxName': '2022 Topps Update',\n",
       "  'boxBrand': 'Topps',\n",
       "  'boxYear': 2022,\n",
       "  'boxImage': '../../../assets/images/2022toppsupdate.jpg',\n",
       "  'boxEbay': None,\n",
       "  'boxSport': 'baseball',\n",
       "  'boxInStock': 1,\n",
       "  'boxDescription': '',\n",
       "  'boxPrice': 99.99},\n",
       " {'boxId': 3,\n",
       "  'boxName': '2022 Bowman Blaster',\n",
       "  'boxBrand': 'Topps',\n",
       "  'boxYear': 2022,\n",
       "  'boxImage': '../../../assets/images/2020bowmanblaster.jpg',\n",
       "  'boxEbay': None,\n",
       "  'boxSport': 'baseball',\n",
       "  'boxInStock': 8,\n",
       "  'boxDescription': '',\n",
       "  'boxPrice': 24.99},\n",
       " {'boxId': 4,\n",
       "  'boxName': '2021 Panini Prizm Football',\n",
       "  'boxBrand': 'Panini',\n",
       "  'boxYear': 2021,\n",
       "  'boxImage': '../../../assets/images/2021paniniprizmfootball.jpg',\n",
       "  'boxEbay': None,\n",
       "  'boxSport': 'football',\n",
       "  'boxInStock': 8,\n",
       "  'boxDescription': '',\n",
       "  'boxPrice': 249.99},\n",
       " {'boxId': 5,\n",
       "  'boxName': '2020 Panini Select Football',\n",
       "  'boxBrand': 'Panini',\n",
       "  'boxYear': 2020,\n",
       "  'boxImage': '../../../assets/images/2020paniniselectfootball.jpg',\n",
       "  'boxEbay': None,\n",
       "  'boxSport': 'football',\n",
       "  'boxInStock': 8,\n",
       "  'boxDescription': '',\n",
       "  'boxPrice': 1499.99},\n",
       " {'boxId': 6,\n",
       "  'boxName': '2022 Panini Select UFC',\n",
       "  'boxBrand': 'Panini',\n",
       "  'boxYear': 2022,\n",
       "  'boxImage': '../../../assets/images/2022paniniselectufc.jpg',\n",
       "  'boxEbay': None,\n",
       "  'boxSport': 'mma',\n",
       "  'boxInStock': 3,\n",
       "  'boxDescription': '',\n",
       "  'boxPrice': 299.99},\n",
       " {'boxId': 7,\n",
       "  'boxName': '2022 Fleer',\n",
       "  'boxBrand': 'Fleer',\n",
       "  'boxYear': 2022,\n",
       "  'boxImage': None,\n",
       "  'boxEbay': None,\n",
       "  'boxSport': 'Baseball',\n",
       "  'boxInStock': None,\n",
       "  'boxDescription': '',\n",
       "  'boxPrice': 209.99},\n",
       " {'boxId': 8,\n",
       "  'boxName': '2022 Fleer',\n",
       "  'boxBrand': 'Fleer',\n",
       "  'boxYear': 2022,\n",
       "  'boxImage': None,\n",
       "  'boxEbay': None,\n",
       "  'boxSport': 'Baseball',\n",
       "  'boxInStock': None,\n",
       "  'boxDescription': '',\n",
       "  'boxPrice': 209.99},\n",
       " {'boxId': 9,\n",
       "  'boxName': '2022 Fleer',\n",
       "  'boxBrand': 'Fleer',\n",
       "  'boxYear': 2022,\n",
       "  'boxImage': None,\n",
       "  'boxEbay': None,\n",
       "  'boxSport': 'Baseball',\n",
       "  'boxInStock': None,\n",
       "  'boxDescription': '',\n",
       "  'boxPrice': 209.99}]"
      ]
     },
     "execution_count": 40,
     "metadata": {},
     "output_type": "execute_result"
    }
   ],
   "source": [
    "response_json"
   ]
  },
  {
   "cell_type": "code",
   "execution_count": 41,
   "id": "05a08c3e-9f41-4552-ac8c-1501d37e40b2",
   "metadata": {},
   "outputs": [],
   "source": [
    "all_boxes = []\n",
    "\n",
    "for box in response_json:\n",
    "    current_pass = []\n",
    "    current_pass.append(box[\"boxId\"])\n",
    "    current_pass.append(box[\"boxName\"])\n",
    "    all_boxes.append(current_pass)"
   ]
  },
  {
   "cell_type": "code",
   "execution_count": 42,
   "id": "35f43523-7aa8-45ea-af6d-b48e9b87bd18",
   "metadata": {},
   "outputs": [],
   "source": [
    "boxes_export_file = \"boxes_export_file.csv\"\n",
    "\n",
    "with open(boxes_export_file, \"w\") as fp:\n",
    "    csvw = csv.writer(fp, delimiter='|')\n",
    "    csvw.writerows(all_boxes)\n",
    "\n",
    "fp.close()"
   ]
  },
  {
   "cell_type": "code",
   "execution_count": 44,
   "id": "a54032e7-c15f-46be-a9c2-cbe0b94a6735",
   "metadata": {},
   "outputs": [],
   "source": [
    "parser = configparser.ConfigParser()\n",
    "parser.read(\"pipeline.conf.txt\")\n",
    "access_key = parser.get(\"aws_boto_credentials\", \"access_key\")\n",
    "secret_key = parser.get(\"aws_boto_credentials\", \"secret_key\")\n",
    "bucket_name = parser.get(\"aws_boto_credentials\", \"bucket\")\n",
    "\n",
    "s3 = boto3.client('s3', aws_access_key_id = access_key, aws_secret_access_key = secret_key)\n",
    "\n",
    "s3.upload_file(\n",
    "    export_file,\n",
    "    bucket_name,\n",
    "    export_file\n",
    ")"
   ]
  },
  {
   "cell_type": "code",
   "execution_count": null,
   "id": "d5cf404b-ba3f-47cc-b615-f8dc69b54152",
   "metadata": {},
   "outputs": [],
   "source": []
  }
 ],
 "metadata": {
  "kernelspec": {
   "display_name": "Python 3 (ipykernel)",
   "language": "python",
   "name": "python3"
  },
  "language_info": {
   "codemirror_mode": {
    "name": "ipython",
    "version": 3
   },
   "file_extension": ".py",
   "mimetype": "text/x-python",
   "name": "python",
   "nbconvert_exporter": "python",
   "pygments_lexer": "ipython3",
   "version": "3.10.4"
  }
 },
 "nbformat": 4,
 "nbformat_minor": 5
}
